{
 "cells": [
  {
   "cell_type": "code",
   "execution_count": 3,
   "id": "b2962821",
   "metadata": {},
   "outputs": [],
   "source": [
    "import pandas as pd \n",
    "import numpy as np \n",
    "import matplotlib.pyplot as plt\n",
    "import os "
   ]
  },
  {
   "cell_type": "code",
   "execution_count": 4,
   "id": "764eac3d",
   "metadata": {},
   "outputs": [],
   "source": [
    "import pandas as pd\n",
    "import numpy as np\n",
    "\n",
    "def analyze_betting_quotes(df,quote_cutoff, index_A=1, index_B=2, index_C=3, minimum_game_length=100, verbose = True):\n",
    "    if len(df) < minimum_game_length:\n",
    "        if verbose : print(\"Not enough data\")\n",
    "        return False\n",
    "    \n",
    "    column_A = df.columns[index_A]\n",
    "    column_B = df.columns[index_B]\n",
    "    column_C = df.columns[index_C]\n",
    "    \n",
    "    valid_quotes = {column_A: [], column_B: [], column_C: []}\n",
    "    \n",
    "    for index, row in df.iterrows():\n",
    "        for col in [column_A, column_B, column_C]:\n",
    "            if not np.isnan(row[col]) and len(valid_quotes[col]) < 2:\n",
    "                valid_quotes[col].append(row[col])\n",
    "                \n",
    "        if all(len(quotes) == 2 for quotes in valid_quotes.values()):\n",
    "            break\n",
    "    \n",
    "    if not all(len(quotes) == 2 for quotes in valid_quotes.values()):\n",
    "        if verbose : print(\"Did not find at least to quotes for each outcome. Not processing\")\n",
    "        return False\n",
    "    \n",
    "    min_first_quote = min(valid_quotes[column_A][1], valid_quotes[column_B][1], valid_quotes[column_C][1])\n",
    "    \n",
    "    if min_first_quote < quote_cutoff:\n",
    "        if verbose : print(\"Beginning of game was more uncertain than cutoff. Min quote was {} \".format(min_first_quote))\n",
    "        return False\n",
    "    \n",
    "    second_quotes = {col: quotes[1] for col, quotes in valid_quotes.items()}\n",
    "    sorted_columns = sorted(second_quotes, key=second_quotes.get)\n",
    "    \n",
    "    df.rename(columns={sorted_columns[0]: 'favourite',\n",
    "                       sorted_columns[1]: 'runner_up',\n",
    "                       sorted_columns[2]: 'runner_runner_up'},\n",
    "              inplace=True)\n",
    "    \n",
    "    return True\n"
   ]
  },
  {
   "cell_type": "code",
   "execution_count": 5,
   "id": "3ea832a6",
   "metadata": {},
   "outputs": [],
   "source": [
    "file_folder = '/Users/mohamedbenmosbah/PythonFC/data/'"
   ]
  },
  {
   "cell_type": "code",
   "execution_count": 6,
   "id": "e25eeb27",
   "metadata": {},
   "outputs": [],
   "source": [
    "def did_favourite_win(processed_df):\n",
    "    last_valid_quotes = {}\n",
    "\n",
    "    for col in ['favourite', 'runner_up', 'runner_runner_up']:\n",
    "        for value in reversed(processed_df[col]):\n",
    "            if not np.isnan(value):\n",
    "                last_valid_quotes[col] = value\n",
    "                break\n",
    "\n",
    "    winner = min(last_valid_quotes, key=last_valid_quotes.get)\n",
    "    return winner == 'favourite'"
   ]
  },
  {
   "cell_type": "code",
   "execution_count": 25,
   "id": "2760c4ff",
   "metadata": {},
   "outputs": [],
   "source": [
    "def analyse_games_in_folder(quote_cutoff,file_folder=file_folder):\n",
    "    total_games_analysed = 0\n",
    "    times_favourite_won = 0\n",
    "    files = [f for f in os.listdir(file_folder)]\n",
    "    for file in files:\n",
    "        try:\n",
    "            df = pd.read_parquet(file_folder+file)\n",
    "        except:\n",
    "            print(f'Failed to read {file}')\n",
    "            continue\n",
    "        analysis_successfull = analyze_betting_quotes(df,quote_cutoff,verbose=False)\n",
    "        if analysis_successfull:\n",
    "            total_games_analysed += 1\n",
    "            times_favourite_won += int(did_favourite_win(df))\n",
    "    return times_favourite_won/total_games_analysed"
   ]
  },
  {
   "cell_type": "code",
   "execution_count": 26,
   "id": "0f405007",
   "metadata": {},
   "outputs": [
    {
     "name": "stdout",
     "output_type": "stream",
     "text": [
      "Failed to read .DS_Store\n",
      "Failed to read raw\n",
      "Failed to read .DS_Store\n",
      "Failed to read raw\n",
      "Failed to read .DS_Store\n",
      "Failed to read raw\n",
      "Failed to read .DS_Store\n",
      "Failed to read raw\n"
     ]
    }
   ],
   "source": [
    "quote_cutoff_values = [1,1.5,2,2.5]\n",
    "# realised_odds is the realised odds corresponding to the \"observed\" frequency of wins of the favourite\n",
    "realised_odds = [] \n",
    "\n",
    "for quote_cutoff in quote_cutoff_values:\n",
    "    realised_odds.append(1/analyse_games_in_folder(quote_cutoff))"
   ]
  },
  {
   "cell_type": "code",
   "execution_count": 27,
   "id": "a7c7d39f",
   "metadata": {},
   "outputs": [
    {
     "data": {
      "image/png": "[encoded data removed]",
      "text/plain": [
       "<Figure size 432x288 with 1 Axes>"
      ]
     },
     "metadata": {
      "needs_background": "light"
     },
     "output_type": "display_data"
    }
   ],
   "source": [
    "plt.plot(quote_cutoff_values,realised_odds)\n",
    "plt.show()"
   ]
  },
  {
   "cell_type": "code",
   "execution_count": 28,
   "id": "e01eccd0",
   "metadata": {},
   "outputs": [],
   "source": [
    "# Toy example : Vraiment truc codé ultra vite et a la zeub mais ca a l'air de dire que quand la cote est vrmt trop basse au \n",
    "# debut du match, il faut se mettre short de l'issue la plus chere. A en croire ca, y a aucune raison de penser qu'une \n",
    "# equipe a plus de 50% de gagner avant un match (statisiquement et en general bien sur)"
   ]
  },
  {
   "cell_type": "code",
   "execution_count": null,
   "id": "65bf0ff6",
   "metadata": {},
   "outputs": [],
   "source": []
  }
 ],
 "metadata": {
  "kernelspec": {
   "display_name": "BetFair",
   "language": "python",
   "name": "betfair"
  },
  "language_info": {
   "codemirror_mode": {
    "name": "ipython",
    "version": 3
   },
   "file_extension": ".py",
   "mimetype": "text/x-python",
   "name": "python",
   "nbconvert_exporter": "python",
   "pygments_lexer": "ipython3",
   "version": "3.10.6"
  }
 },
 "nbformat": 4,
 "nbformat_minor": 5
}
